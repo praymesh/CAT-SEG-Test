{
  "nbformat": 4,
  "nbformat_minor": 0,
  "metadata": {
    "colab": {
      "provenance": [],
      "gpuType": "V28",
      "authorship_tag": "ABX9TyPOFga4H/zln7flD8poSRoc",
      "include_colab_link": true
    },
    "kernelspec": {
      "name": "python3",
      "display_name": "Python 3"
    },
    "language_info": {
      "name": "python"
    },
    "accelerator": "TPU"
  },
  "cells": [
    {
      "cell_type": "markdown",
      "metadata": {
        "id": "view-in-github",
        "colab_type": "text"
      },
      "source": [
        "<a href=\"https://colab.research.google.com/github/praymesh/CAT-SEG-Test/blob/main/Dataset_modelling.ipynb\" target=\"_parent\"><img src=\"https://colab.research.google.com/assets/colab-badge.svg\" alt=\"Open In Colab\"/></a>"
      ]
    },
    {
      "cell_type": "code",
      "execution_count": 41,
      "metadata": {
        "id": "-1ArhyZCfvpL"
      },
      "outputs": [],
      "source": [
        "from PIL import Image\n",
        "import torch\n",
        "from torch.utils.data import Dataset\n",
        "import torchvision.transforms as T\n",
        "import numpy as np\n",
        "import os"
      ]
    },
    {
      "cell_type": "code",
      "source": [
        "dataset/\n",
        "coco-stuff/\n",
        "├── images/\n",
        "│ ├── train2017/\n",
        "│ │ ├── 000000000001.jpg\n",
        "│ │ ├── ...\n",
        "│ └── val2017/\n",
        "├── annotations/\n",
        "│ ├── train2017/\n",
        "│ │ ├── 000000000001.png ← grayscale mask\n",
        "│ └── val2017/\n",
        "├── stuff_classes.txt ← class ID to name (e.g. \"0 unlabeled\")"
      ],
      "metadata": {
        "id": "waKS-6AMj0Td"
      },
      "execution_count": null,
      "outputs": []
    },
    {
      "cell_type": "code",
      "source": [
        "!mkdir -p datasets/coco-stuff/images/train2017\n",
        "!mkdir -p datasets/coco-stuff/images/val2017\n",
        "!mkdir -p datasets/coco-stuff/annotations/train2017\n",
        "!mkdir -p datasets/coco-stuff/annotations/val2017"
      ],
      "metadata": {
        "id": "ELBigMgp61tz"
      },
      "execution_count": 33,
      "outputs": []
    },
    {
      "cell_type": "code",
      "source": [
        "!wget http://images.cocodataset.org/zips/train2017.zip\n",
        "!wget http://images.cocodataset.org/zips/val2017.zip\n",
        "!wget http://calvin.inf.ed.ac.uk/wp-content/uploads/data/cocostuffdataset/stuffthingmaps_trainval2017.zip\n",
        "# !wget http://calvin.inf.ed.ac.uk/wp-content/uploads/data/cocostuffdataset/stuff_classes.txt - link doest work|\n"
      ],
      "metadata": {
        "colab": {
          "base_uri": "https://localhost:8080/"
        },
        "id": "8SBG2dESf2XO",
        "outputId": "7b198d9f-032f-44ea-ca39-423e1a6a8d68",
        "collapsed": true
      },
      "execution_count": 34,
      "outputs": [
        {
          "output_type": "stream",
          "name": "stdout",
          "text": [
            "--2025-06-20 20:51:18--  http://images.cocodataset.org/zips/train2017.zip\n",
            "Resolving images.cocodataset.org (images.cocodataset.org)... 3.5.16.183, 16.15.184.130, 52.217.130.1, ...\n",
            "Connecting to images.cocodataset.org (images.cocodataset.org)|3.5.16.183|:80... connected.\n",
            "HTTP request sent, awaiting response... 200 OK\n",
            "Length: 19336861798 (18G) [application/zip]\n",
            "Saving to: ‘train2017.zip’\n",
            "\n",
            "train2017.zip       100%[===================>]  18.01G   125MB/s    in 3m 27s  \n",
            "\n",
            "2025-06-20 20:54:46 (89.0 MB/s) - ‘train2017.zip’ saved [19336861798/19336861798]\n",
            "\n",
            "--2025-06-20 20:54:46--  http://images.cocodataset.org/zips/val2017.zip\n",
            "Resolving images.cocodataset.org (images.cocodataset.org)... 3.5.1.147, 52.216.8.59, 3.5.27.23, ...\n",
            "Connecting to images.cocodataset.org (images.cocodataset.org)|3.5.1.147|:80... connected.\n",
            "HTTP request sent, awaiting response... 200 OK\n",
            "Length: 815585330 (778M) [application/zip]\n",
            "Saving to: ‘val2017.zip’\n",
            "\n",
            "val2017.zip         100%[===================>] 777.80M  95.4MB/s    in 8.1s    \n",
            "\n",
            "2025-06-20 20:54:54 (95.6 MB/s) - ‘val2017.zip’ saved [815585330/815585330]\n",
            "\n",
            "--2025-06-20 20:54:54--  http://calvin.inf.ed.ac.uk/wp-content/uploads/data/cocostuffdataset/stuffthingmaps_trainval2017.zip\n",
            "Resolving calvin.inf.ed.ac.uk (calvin.inf.ed.ac.uk)... 129.215.202.26\n",
            "Connecting to calvin.inf.ed.ac.uk (calvin.inf.ed.ac.uk)|129.215.202.26|:80... connected.\n",
            "HTTP request sent, awaiting response... 301 Moved Permanently\n",
            "Location: https://calvin.inf.ed.ac.uk/wp-content/uploads/data/cocostuffdataset/stuffthingmaps_trainval2017.zip [following]\n",
            "--2025-06-20 20:54:55--  https://calvin.inf.ed.ac.uk/wp-content/uploads/data/cocostuffdataset/stuffthingmaps_trainval2017.zip\n",
            "Connecting to calvin.inf.ed.ac.uk (calvin.inf.ed.ac.uk)|129.215.202.26|:443... connected.\n",
            "HTTP request sent, awaiting response... 301 Moved Permanently\n",
            "Location: https://calvin-vision.net/wp-content/uploads/data/cocostuffdataset/stuffthingmaps_trainval2017.zip [following]\n",
            "--2025-06-20 20:54:55--  https://calvin-vision.net/wp-content/uploads/data/cocostuffdataset/stuffthingmaps_trainval2017.zip\n",
            "Resolving calvin-vision.net (calvin-vision.net)... 162.241.226.109\n",
            "Connecting to calvin-vision.net (calvin-vision.net)|162.241.226.109|:443... connected.\n",
            "HTTP request sent, awaiting response... 200 OK\n",
            "Length: 659008564 (628M) [application/zip]\n",
            "Saving to: ‘stuffthingmaps_trainval2017.zip’\n",
            "\n",
            "stuffthingmaps_trai 100%[===================>] 628.48M  52.4MB/s    in 9.7s    \n",
            "\n",
            "2025-06-20 20:55:05 (65.0 MB/s) - ‘stuffthingmaps_trainval2017.zip’ saved [659008564/659008564]\n",
            "\n"
          ]
        }
      ]
    },
    {
      "cell_type": "code",
      "source": [
        "#unzipping the dataset\n",
        "#coc-stuff/images folder\n",
        "!unzip -q train2017.zip -d datasets/coco-stuff/images/\n",
        "!unzip -q val2017.zip -d datasets/coco-stuff/images/\n",
        "\n",
        "#cocstuff/annotaions/masks\n",
        "!unzip -q stuffthingmaps_trainval2017.zip -d datasets/coco-stuff/annotations/\n",
        "\n",
        "#text classes in coco-stuff\n",
        "#!unzip -q stuff_classes.txt -d datasets/coco-stuff/"
      ],
      "metadata": {
        "id": "IrVX0MPJG6yE"
      },
      "execution_count": 35,
      "outputs": []
    },
    {
      "cell_type": "markdown",
      "source": [
        "For Class Labels"
      ],
      "metadata": {
        "id": "AXzQFDDvG7uH"
      }
    },
    {
      "cell_type": "code",
      "source": [
        "#dont use this :\n",
        "!mkdir -p datasets/coco-stuff/\n",
        "!wget https://github.com/nightrome/cocostuff/blob/master/labels.txt  # this downloads the webpage , ie the html file, code works but webpage gets downloaded as .txt file\n",
        "!mv labels.txt datasets/coco-stuff/\n",
        "!ls datasets/coco-stuff\n",
        "\n",
        "open('datasets/coco-stuff/labels.txt').read() - #"
      ],
      "metadata": {
        "colab": {
          "base_uri": "https://localhost:8080/"
        },
        "id": "HJ0eRq3OBsVm",
        "outputId": "10bf0cc2-a2f0-45b0-acf1-a47e61db90d6"
      },
      "execution_count": 9,
      "outputs": [
        {
          "output_type": "stream",
          "name": "stdout",
          "text": [
            "--2025-06-20 20:33:38--  https://github.com/nightrome/cocostuff/blob/master/labels.txt\n",
            "Resolving github.com (github.com)... 140.82.114.4\n",
            "Connecting to github.com (github.com)|140.82.114.4|:443... connected.\n",
            "HTTP request sent, awaiting response... 200 OK\n",
            "Length: unspecified [text/html]\n",
            "Saving to: ‘labels.txt.6’\n",
            "\n",
            "labels.txt.6            [ <=>                ] 174.48K  --.-KB/s    in 0.09s   \n",
            "\n",
            "2025-06-20 20:33:38 (1.80 MB/s) - ‘labels.txt.6’ saved [178672]\n",
            "\n"
          ]
        }
      ]
    },
    {
      "cell_type": "markdown",
      "source": [
        "!wget https://github.com/nightrome/cocostuff/blob/master/labels.txt --html webpage , thus downloading manually from same linked webpage :"
      ],
      "metadata": {
        "id": "41pjOe2-BL2F"
      }
    },
    {
      "cell_type": "code",
      "source": [
        "# prompt: upload file from my pc to location\n",
        "\n",
        "from google.colab import files\n",
        "\n",
        "uploaded = files.upload()\n",
        "\n",
        "for filename in uploaded.keys():\n",
        "  print(f'User uploaded file \"{filename}\"')\n",
        "\n",
        "!mv \"{filename}\" datasets/coco-stuff/"
      ],
      "metadata": {
        "colab": {
          "base_uri": "https://localhost:8080/",
          "height": 91
        },
        "id": "KmUZMt74DJSb",
        "outputId": "ecc011aa-e78c-4392-bec1-4f0671c0da0a"
      },
      "execution_count": 21,
      "outputs": [
        {
          "output_type": "display_data",
          "data": {
            "text/plain": [
              "<IPython.core.display.HTML object>"
            ],
            "text/html": [
              "\n",
              "     <input type=\"file\" id=\"files-010a0aae-412c-4f95-b013-1e6347ec1135\" name=\"files[]\" multiple disabled\n",
              "        style=\"border:none\" />\n",
              "     <output id=\"result-010a0aae-412c-4f95-b013-1e6347ec1135\">\n",
              "      Upload widget is only available when the cell has been executed in the\n",
              "      current browser session. Please rerun this cell to enable.\n",
              "      </output>\n",
              "      <script>// Copyright 2017 Google LLC\n",
              "//\n",
              "// Licensed under the Apache License, Version 2.0 (the \"License\");\n",
              "// you may not use this file except in compliance with the License.\n",
              "// You may obtain a copy of the License at\n",
              "//\n",
              "//      http://www.apache.org/licenses/LICENSE-2.0\n",
              "//\n",
              "// Unless required by applicable law or agreed to in writing, software\n",
              "// distributed under the License is distributed on an \"AS IS\" BASIS,\n",
              "// WITHOUT WARRANTIES OR CONDITIONS OF ANY KIND, either express or implied.\n",
              "// See the License for the specific language governing permissions and\n",
              "// limitations under the License.\n",
              "\n",
              "/**\n",
              " * @fileoverview Helpers for google.colab Python module.\n",
              " */\n",
              "(function(scope) {\n",
              "function span(text, styleAttributes = {}) {\n",
              "  const element = document.createElement('span');\n",
              "  element.textContent = text;\n",
              "  for (const key of Object.keys(styleAttributes)) {\n",
              "    element.style[key] = styleAttributes[key];\n",
              "  }\n",
              "  return element;\n",
              "}\n",
              "\n",
              "// Max number of bytes which will be uploaded at a time.\n",
              "const MAX_PAYLOAD_SIZE = 100 * 1024;\n",
              "\n",
              "function _uploadFiles(inputId, outputId) {\n",
              "  const steps = uploadFilesStep(inputId, outputId);\n",
              "  const outputElement = document.getElementById(outputId);\n",
              "  // Cache steps on the outputElement to make it available for the next call\n",
              "  // to uploadFilesContinue from Python.\n",
              "  outputElement.steps = steps;\n",
              "\n",
              "  return _uploadFilesContinue(outputId);\n",
              "}\n",
              "\n",
              "// This is roughly an async generator (not supported in the browser yet),\n",
              "// where there are multiple asynchronous steps and the Python side is going\n",
              "// to poll for completion of each step.\n",
              "// This uses a Promise to block the python side on completion of each step,\n",
              "// then passes the result of the previous step as the input to the next step.\n",
              "function _uploadFilesContinue(outputId) {\n",
              "  const outputElement = document.getElementById(outputId);\n",
              "  const steps = outputElement.steps;\n",
              "\n",
              "  const next = steps.next(outputElement.lastPromiseValue);\n",
              "  return Promise.resolve(next.value.promise).then((value) => {\n",
              "    // Cache the last promise value to make it available to the next\n",
              "    // step of the generator.\n",
              "    outputElement.lastPromiseValue = value;\n",
              "    return next.value.response;\n",
              "  });\n",
              "}\n",
              "\n",
              "/**\n",
              " * Generator function which is called between each async step of the upload\n",
              " * process.\n",
              " * @param {string} inputId Element ID of the input file picker element.\n",
              " * @param {string} outputId Element ID of the output display.\n",
              " * @return {!Iterable<!Object>} Iterable of next steps.\n",
              " */\n",
              "function* uploadFilesStep(inputId, outputId) {\n",
              "  const inputElement = document.getElementById(inputId);\n",
              "  inputElement.disabled = false;\n",
              "\n",
              "  const outputElement = document.getElementById(outputId);\n",
              "  outputElement.innerHTML = '';\n",
              "\n",
              "  const pickedPromise = new Promise((resolve) => {\n",
              "    inputElement.addEventListener('change', (e) => {\n",
              "      resolve(e.target.files);\n",
              "    });\n",
              "  });\n",
              "\n",
              "  const cancel = document.createElement('button');\n",
              "  inputElement.parentElement.appendChild(cancel);\n",
              "  cancel.textContent = 'Cancel upload';\n",
              "  const cancelPromise = new Promise((resolve) => {\n",
              "    cancel.onclick = () => {\n",
              "      resolve(null);\n",
              "    };\n",
              "  });\n",
              "\n",
              "  // Wait for the user to pick the files.\n",
              "  const files = yield {\n",
              "    promise: Promise.race([pickedPromise, cancelPromise]),\n",
              "    response: {\n",
              "      action: 'starting',\n",
              "    }\n",
              "  };\n",
              "\n",
              "  cancel.remove();\n",
              "\n",
              "  // Disable the input element since further picks are not allowed.\n",
              "  inputElement.disabled = true;\n",
              "\n",
              "  if (!files) {\n",
              "    return {\n",
              "      response: {\n",
              "        action: 'complete',\n",
              "      }\n",
              "    };\n",
              "  }\n",
              "\n",
              "  for (const file of files) {\n",
              "    const li = document.createElement('li');\n",
              "    li.append(span(file.name, {fontWeight: 'bold'}));\n",
              "    li.append(span(\n",
              "        `(${file.type || 'n/a'}) - ${file.size} bytes, ` +\n",
              "        `last modified: ${\n",
              "            file.lastModifiedDate ? file.lastModifiedDate.toLocaleDateString() :\n",
              "                                    'n/a'} - `));\n",
              "    const percent = span('0% done');\n",
              "    li.appendChild(percent);\n",
              "\n",
              "    outputElement.appendChild(li);\n",
              "\n",
              "    const fileDataPromise = new Promise((resolve) => {\n",
              "      const reader = new FileReader();\n",
              "      reader.onload = (e) => {\n",
              "        resolve(e.target.result);\n",
              "      };\n",
              "      reader.readAsArrayBuffer(file);\n",
              "    });\n",
              "    // Wait for the data to be ready.\n",
              "    let fileData = yield {\n",
              "      promise: fileDataPromise,\n",
              "      response: {\n",
              "        action: 'continue',\n",
              "      }\n",
              "    };\n",
              "\n",
              "    // Use a chunked sending to avoid message size limits. See b/62115660.\n",
              "    let position = 0;\n",
              "    do {\n",
              "      const length = Math.min(fileData.byteLength - position, MAX_PAYLOAD_SIZE);\n",
              "      const chunk = new Uint8Array(fileData, position, length);\n",
              "      position += length;\n",
              "\n",
              "      const base64 = btoa(String.fromCharCode.apply(null, chunk));\n",
              "      yield {\n",
              "        response: {\n",
              "          action: 'append',\n",
              "          file: file.name,\n",
              "          data: base64,\n",
              "        },\n",
              "      };\n",
              "\n",
              "      let percentDone = fileData.byteLength === 0 ?\n",
              "          100 :\n",
              "          Math.round((position / fileData.byteLength) * 100);\n",
              "      percent.textContent = `${percentDone}% done`;\n",
              "\n",
              "    } while (position < fileData.byteLength);\n",
              "  }\n",
              "\n",
              "  // All done.\n",
              "  yield {\n",
              "    response: {\n",
              "      action: 'complete',\n",
              "    }\n",
              "  };\n",
              "}\n",
              "\n",
              "scope.google = scope.google || {};\n",
              "scope.google.colab = scope.google.colab || {};\n",
              "scope.google.colab._files = {\n",
              "  _uploadFiles,\n",
              "  _uploadFilesContinue,\n",
              "};\n",
              "})(self);\n",
              "</script> "
            ]
          },
          "metadata": {}
        },
        {
          "output_type": "stream",
          "name": "stdout",
          "text": [
            "Saving labels.txt to labels (1).txt\n",
            "User uploaded file \"labels (1).txt\"\n"
          ]
        }
      ]
    },
    {
      "cell_type": "code",
      "source": [
        "!rm datasets/coco-stuff/labels.txt"
      ],
      "metadata": {
        "id": "GOLrd1t7GAUD"
      },
      "execution_count": 22,
      "outputs": []
    },
    {
      "cell_type": "code",
      "source": [
        "!ls datasets/coco-stuff\n",
        "!ls datasets/coco-stuff/images\n",
        "!ls datasets/coco-stuff/annotations/\n"
      ],
      "metadata": {
        "colab": {
          "base_uri": "https://localhost:8080/"
        },
        "id": "KDSQUAXGGD16",
        "outputId": "605fe889-d6fd-409e-de46-ff772af7f214"
      },
      "execution_count": 38,
      "outputs": [
        {
          "output_type": "stream",
          "name": "stdout",
          "text": [
            " annotations   images  'labels (1).txt'\n",
            "train2017  val2017\n",
            "train2017  val2017\n"
          ]
        }
      ]
    },
    {
      "cell_type": "code",
      "source": [
        "open(\"datasets/coco-stuff/labels (1).txt\").read().splitlines()"
      ],
      "metadata": {
        "colab": {
          "base_uri": "https://localhost:8080/"
        },
        "collapsed": true,
        "id": "_muwRv78GH7X",
        "outputId": "0ada236b-35fd-4f44-9ba6-00b5082adbc8"
      },
      "execution_count": 32,
      "outputs": [
        {
          "output_type": "execute_result",
          "data": {
            "text/plain": [
              "['0: unlabeled',\n",
              " '1: person',\n",
              " '2: bicycle',\n",
              " '3: car',\n",
              " '4: motorcycle',\n",
              " '5: airplane',\n",
              " '6: bus',\n",
              " '7: train',\n",
              " '8: truck',\n",
              " '9: boat',\n",
              " '10: traffic light',\n",
              " '11: fire hydrant',\n",
              " '12: street sign',\n",
              " '13: stop sign',\n",
              " '14: parking meter',\n",
              " '15: bench',\n",
              " '16: bird',\n",
              " '17: cat',\n",
              " '18: dog',\n",
              " '19: horse',\n",
              " '20: sheep',\n",
              " '21: cow',\n",
              " '22: elephant',\n",
              " '23: bear',\n",
              " '24: zebra',\n",
              " '25: giraffe',\n",
              " '26: hat',\n",
              " '27: backpack',\n",
              " '28: umbrella',\n",
              " '29: shoe',\n",
              " '30: eye glasses',\n",
              " '31: handbag',\n",
              " '32: tie',\n",
              " '33: suitcase',\n",
              " '34: frisbee',\n",
              " '35: skis',\n",
              " '36: snowboard',\n",
              " '37: sports ball',\n",
              " '38: kite',\n",
              " '39: baseball bat',\n",
              " '40: baseball glove',\n",
              " '41: skateboard',\n",
              " '42: surfboard',\n",
              " '43: tennis racket',\n",
              " '44: bottle',\n",
              " '45: plate',\n",
              " '46: wine glass',\n",
              " '47: cup',\n",
              " '48: fork',\n",
              " '49: knife',\n",
              " '50: spoon',\n",
              " '51: bowl',\n",
              " '52: banana',\n",
              " '53: apple',\n",
              " '54: sandwich',\n",
              " '55: orange',\n",
              " '56: broccoli',\n",
              " '57: carrot',\n",
              " '58: hot dog',\n",
              " '59: pizza',\n",
              " '60: donut',\n",
              " '61: cake',\n",
              " '62: chair',\n",
              " '63: couch',\n",
              " '64: potted plant',\n",
              " '65: bed',\n",
              " '66: mirror',\n",
              " '67: dining table',\n",
              " '68: window',\n",
              " '69: desk',\n",
              " '70: toilet',\n",
              " '71: door',\n",
              " '72: tv',\n",
              " '73: laptop',\n",
              " '74: mouse',\n",
              " '75: remote',\n",
              " '76: keyboard',\n",
              " '77: cell phone',\n",
              " '78: microwave',\n",
              " '79: oven',\n",
              " '80: toaster',\n",
              " '81: sink',\n",
              " '82: refrigerator',\n",
              " '83: blender',\n",
              " '84: book',\n",
              " '85: clock',\n",
              " '86: vase',\n",
              " '87: scissors',\n",
              " '88: teddy bear',\n",
              " '89: hair drier',\n",
              " '90: toothbrush',\n",
              " '91: hair brush',\n",
              " '92: banner',\n",
              " '93: blanket',\n",
              " '94: branch',\n",
              " '95: bridge',\n",
              " '96: building-other',\n",
              " '97: bush',\n",
              " '98: cabinet',\n",
              " '99: cage',\n",
              " '100: cardboard',\n",
              " '101: carpet',\n",
              " '102: ceiling-other',\n",
              " '103: ceiling-tile',\n",
              " '104: cloth',\n",
              " '105: clothes',\n",
              " '106: clouds',\n",
              " '107: counter',\n",
              " '108: cupboard',\n",
              " '109: curtain',\n",
              " '110: desk-stuff',\n",
              " '111: dirt',\n",
              " '112: door-stuff',\n",
              " '113: fence',\n",
              " '114: floor-marble',\n",
              " '115: floor-other',\n",
              " '116: floor-stone',\n",
              " '117: floor-tile',\n",
              " '118: floor-wood',\n",
              " '119: flower',\n",
              " '120: fog',\n",
              " '121: food-other',\n",
              " '122: fruit',\n",
              " '123: furniture-other',\n",
              " '124: grass',\n",
              " '125: gravel',\n",
              " '126: ground-other',\n",
              " '127: hill',\n",
              " '128: house',\n",
              " '129: leaves',\n",
              " '130: light',\n",
              " '131: mat',\n",
              " '132: metal',\n",
              " '133: mirror-stuff',\n",
              " '134: moss',\n",
              " '135: mountain',\n",
              " '136: mud',\n",
              " '137: napkin',\n",
              " '138: net',\n",
              " '139: paper',\n",
              " '140: pavement',\n",
              " '141: pillow',\n",
              " '142: plant-other',\n",
              " '143: plastic',\n",
              " '144: platform',\n",
              " '145: playingfield',\n",
              " '146: railing',\n",
              " '147: railroad',\n",
              " '148: river',\n",
              " '149: road',\n",
              " '150: rock',\n",
              " '151: roof',\n",
              " '152: rug',\n",
              " '153: salad',\n",
              " '154: sand',\n",
              " '155: sea',\n",
              " '156: shelf',\n",
              " '157: sky-other',\n",
              " '158: skyscraper',\n",
              " '159: snow',\n",
              " '160: solid-other',\n",
              " '161: stairs',\n",
              " '162: stone',\n",
              " '163: straw',\n",
              " '164: structural-other',\n",
              " '165: table',\n",
              " '166: tent',\n",
              " '167: textile-other',\n",
              " '168: towel',\n",
              " '169: tree',\n",
              " '170: vegetable',\n",
              " '171: wall-brick',\n",
              " '172: wall-concrete',\n",
              " '173: wall-other',\n",
              " '174: wall-panel',\n",
              " '175: wall-stone',\n",
              " '176: wall-tile',\n",
              " '177: wall-wood',\n",
              " '178: water-other',\n",
              " '179: waterdrops',\n",
              " '180: window-blind',\n",
              " '181: window-other',\n",
              " '182: wood']"
            ]
          },
          "metadata": {},
          "execution_count": 32
        }
      ]
    },
    {
      "cell_type": "code",
      "source": [],
      "metadata": {
        "id": "YNmngAi8AY50"
      },
      "execution_count": null,
      "outputs": []
    },
    {
      "cell_type": "code",
      "source": [
        "! ls datasets\n",
        "#checking the stucture"
      ],
      "metadata": {
        "colab": {
          "base_uri": "https://localhost:8080/"
        },
        "id": "5LZ_QHYCisWD",
        "outputId": "cc249750-1c98-473e-c6cf-34ae7c735417"
      },
      "execution_count": null,
      "outputs": [
        {
          "output_type": "stream",
          "name": "stdout",
          "text": [
            "train2017  val2017\n"
          ]
        }
      ]
    },
    {
      "cell_type": "code",
      "source": [
        "# prompt: check the size and lenght of dataset\n",
        "import os\n",
        "train_images_path = 'datasets/coco-stuff/images/train2017'\n",
        "val_images_path = 'datasets/coco-stuff/images/val2017'\n",
        "train_masks_path = 'datasets/coco-stuff/annotations/train2017'\n",
        "val_masks_path = 'datasets/coco-stuff/annotations/val2017'\n",
        "\n",
        "train_image_files = os.listdir(train_images_path)\n",
        "val_image_files = os.listdir(val_images_path)\n",
        "train_mask_files = os.listdir(train_masks_path)\n",
        "val_mask_files = os.listdir(val_masks_path)\n",
        "\n",
        "print(f\"Number of training images: {len(train_image_files)}\")\n",
        "print(f\"Number of validation images: {len(val_image_files)}\")\n",
        "print(f\"Number of training masks: {len(train_mask_files)}\")\n",
        "print(f\"Number of validation masks: {len(val_mask_files)}\")\n",
        "\n",
        "# Optionally, you can also check the size of a single image and mask\n",
        "if len(train_image_files) > 0:\n",
        "  first_train_image_path = os.path.join(train_images_path, train_image_files[0])\n",
        "  img = Image.open(first_train_image_path)\n",
        "  print(f\"Size of a training image: {img.size}\")\n",
        "\n",
        "if len(train_mask_files) > 0:\n",
        "  first_train_mask_path = os.path.join(train_masks_path, train_mask_files[0])\n",
        "  mask = Image.open(first_train_mask_path)\n",
        "  print(f\"Size of a training mask: {mask.size}\")"
      ],
      "metadata": {
        "colab": {
          "base_uri": "https://localhost:8080/"
        },
        "id": "vPzHBe4sJkQV",
        "outputId": "c9a78968-52fe-4cbd-f125-bf2d7e982e04"
      },
      "execution_count": 42,
      "outputs": [
        {
          "output_type": "stream",
          "name": "stdout",
          "text": [
            "Number of training images: 118287\n",
            "Number of validation images: 5000\n",
            "Number of training masks: 118287\n",
            "Number of validation masks: 5000\n",
            "Size of a training image: (640, 480)\n",
            "Size of a training mask: (640, 348)\n"
          ]
        }
      ]
    },
    {
      "cell_type": "code",
      "source": [
        "# checking Size of dataset directory\n",
        "\n",
        "!du -h datasets"
      ],
      "metadata": {
        "colab": {
          "base_uri": "https://localhost:8080/"
        },
        "id": "uZNQV1CDi33o",
        "outputId": "20288ca6-3e5a-4706-cb58-b6988ba93417"
      },
      "execution_count": null,
      "outputs": [
        {
          "output_type": "stream",
          "name": "stdout",
          "text": [
            "846M\tdatasets/train2017\n",
            "36M\tdatasets/val2017\n",
            "882M\tdatasets\n"
          ]
        }
      ]
    },
    {
      "cell_type": "code",
      "source": [],
      "metadata": {
        "id": "V9C2VjFBm-UQ"
      },
      "execution_count": null,
      "outputs": []
    },
    {
      "cell_type": "code",
      "source": [],
      "metadata": {
        "id": "V4thCRXuDhfH"
      },
      "execution_count": null,
      "outputs": []
    },
    {
      "cell_type": "code",
      "source": [],
      "metadata": {
        "id": "XZdLEtvDD3j4"
      },
      "execution_count": null,
      "outputs": []
    }
  ]
}